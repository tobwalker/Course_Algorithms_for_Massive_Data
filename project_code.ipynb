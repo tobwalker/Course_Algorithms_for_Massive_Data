{
  "cells": [
    {
      "cell_type": "markdown",
      "metadata": {
        "id": "view-in-github",
        "colab_type": "text"
      },
      "source": [
        "<a href=\"https://colab.research.google.com/github/tobwalker/project_afmd_linkAnalysis/blob/main/AFMD_PageRank_Tobias_Walker.ipynb\" target=\"_parent\"><img src=\"https://colab.research.google.com/assets/colab-badge.svg\" alt=\"Open In Colab\"/></a>"
      ]
    },
    {
      "cell_type": "markdown",
      "metadata": {
        "id": "D8YkOOwBdFHS"
      },
      "source": [
        "## Link-Analysis of Amazon Products Based on Reviews ##\n",
        "\n",
        "---\n",
        "\n",
        "This code performs a link analysis of amazon products. A link is created if 2 products are reviewed by the same customer. The links are non-directional, which means in this context that they are always bidirectional. This Property ensures that deadends and spider traps cannot exist, because if there is a link in there is always also a link out. Nonetheless the network that is build might have a problem with islands, meaning not every product is necessarily connected with each other product.\n",
        "\n",
        "---\n",
        "\n",
        "**Example:**\n",
        "\n",
        "Customer A reviewed Products 1,2 and 3. Therefore the following links exist:\n",
        "\n",
        "```\n",
        "[(1,2), (2,1), (1,3), (3,1), (2,3), (3,2)]\n",
        "```\n",
        "\n",
        "\n",
        "\n",
        "\n",
        "\n",
        "\n"
      ]
    },
    {
      "cell_type": "markdown",
      "source": [
        "### Step 1: Configuring PySpark and import necessary packages ###"
      ],
      "metadata": {
        "id": "OVXOdQ_z4yUb"
      }
    },
    {
      "cell_type": "code",
      "execution_count": null,
      "metadata": {
        "colab": {
          "base_uri": "https://localhost:8080/"
        },
        "id": "sX7DFWx6bIKs",
        "outputId": "02a88ea0-8daf-4aee-c849-1a216345c95d"
      },
      "outputs": [
        {
          "output_type": "stream",
          "name": "stdout",
          "text": [
            "Collecting pyspark\n",
            "  Downloading pyspark-3.4.1.tar.gz (310.8 MB)\n",
            "\u001b[2K     \u001b[90m━━━━━━━━━━━━━━━━━━━━━━━━━━━━━━━━━━━━━━━\u001b[0m \u001b[32m310.8/310.8 MB\u001b[0m \u001b[31m3.5 MB/s\u001b[0m eta \u001b[36m0:00:00\u001b[0m\n",
            "\u001b[?25h  Preparing metadata (setup.py) ... \u001b[?25l\u001b[?25hdone\n",
            "Requirement already satisfied: py4j==0.10.9.7 in /usr/local/lib/python3.10/dist-packages (from pyspark) (0.10.9.7)\n",
            "Building wheels for collected packages: pyspark\n",
            "  Building wheel for pyspark (setup.py) ... \u001b[?25l\u001b[?25hdone\n",
            "  Created wheel for pyspark: filename=pyspark-3.4.1-py2.py3-none-any.whl size=311285398 sha256=31fd8e0b6635bb59e708fa29c1a13d122ca76ab703a01f6a7ec2079f2c96fa5e\n",
            "  Stored in directory: /root/.cache/pip/wheels/0d/77/a3/ff2f74cc9ab41f8f594dabf0579c2a7c6de920d584206e0834\n",
            "Successfully built pyspark\n",
            "Installing collected packages: pyspark\n",
            "Successfully installed pyspark-3.4.1\n",
            "Collecting findspark\n",
            "  Downloading findspark-2.0.1-py2.py3-none-any.whl (4.4 kB)\n",
            "Installing collected packages: findspark\n",
            "Successfully installed findspark-2.0.1\n"
          ]
        }
      ],
      "source": [
        "# Spark config\n",
        "!apt-get install openjdk-8-jdk-headless -qq > /dev/null\n",
        "!wget -q https://dlcdn.apache.org/spark/spark-3.4.0/spark-3.4.0-bin-hadoop3.tgz\n",
        "!tar xf spark-3.4.0-bin-hadoop3.tgz\n",
        "!pip install pyspark\n",
        "!pip install findspark\n",
        "import os\n",
        "os.environ[\"JAVA_HOME\"] = \"/usr/lib/jvm/java-8-openjdk-amd64\"\n",
        "os.environ[\"SPARK_HOME\"] = \"/content/spark-3.4.0-bin-hadoop3\"\n",
        "os.environ[\"PYSPARK_SUBMIT_ARGS\"] = \"--driver-memory 9g pyspark-shell\"\n",
        "import findspark\n",
        "findspark.init(\"spark-3.4.0-bin-hadoop3\")\n",
        "from pyspark.sql import SparkSession\n",
        "spark = SparkSession.builder.master(\"local[*]\").getOrCreate()\n",
        "import pyspark\n",
        "sc = spark.sparkContext\n",
        "spark = SparkSession.builder.appName(\"AlgoForBigData\").getOrCreate()\n",
        "# Packages\n",
        "from pyspark.sql import functions as F\n",
        "from pyspark.sql.functions import broadcast, col, count, explode, lit, monotonically_increasing_id, approx_count_distinct, expr, desc, asc\n",
        "from pyspark.ml.feature import StringIndexer\n",
        "from pyspark.sql.types import ArrayType, StringType, StructType, StructField\n",
        "from itertools import combinations\n",
        "from functools import reduce\n",
        "import glob\n",
        "import zipfile\n",
        "import matplotlib.pyplot as plt"
      ]
    },
    {
      "cell_type": "markdown",
      "source": [
        "### Step 2: Download and import dataset ###\n",
        "\n",
        "Downloads the Amazon review dataset from KAGGLE, but only extracts the dataset 'Automotive', which is then imported into a PySpark DataFrame.\n"
      ],
      "metadata": {
        "id": "V30s7KJm5Cb4"
      }
    },
    {
      "cell_type": "code",
      "execution_count": null,
      "metadata": {
        "colab": {
          "base_uri": "https://localhost:8080/"
        },
        "id": "_oSvV6uEYlk4",
        "outputId": "59deed2d-9641-43f5-a9a8-2a1d270debf7"
      },
      "outputs": [
        {
          "output_type": "stream",
          "name": "stdout",
          "text": [
            "Downloading amazon-us-customer-reviews-dataset.zip to /content\n",
            "100% 20.9G/21.0G [04:14<00:00, 137MB/s]\n",
            "100% 21.0G/21.0G [04:14<00:00, 88.4MB/s]\n",
            "Extracted files: /content/amazon/amazon_reviews_us_Automotive_v1_00.tsv\n"
          ]
        }
      ],
      "source": [
        "# Download dataset from Kaggle\n",
        "os.environ['KAGGLE_USERNAME'] = \"xxxxx\"\n",
        "os.environ['KAGGLE_KEY'] = \"xxxxx\"\n",
        "!kaggle datasets download -d cynthiarempel/amazon-us-customer-reviews-dataset\n",
        "\n",
        "# Unzip only the automotive dataset\n",
        "zip_path = \"/content/amazon-us-customer-reviews-dataset.zip\"\n",
        "extract_path = \"/content/amazon/\"\n",
        "\n",
        "with zipfile.ZipFile(zip_path, 'r') as zip_ref:\n",
        "    file_list = [name for name in zip_ref.namelist() if \"Automotive\" in name]\n",
        "    zip_ref.extractall(path=extract_path, members=file_list)\n",
        "\n",
        "# Print the extracted file list\n",
        "for file_name in file_list:\n",
        "  print(f\"Extracted files: {os.path.join(extract_path, file_name)}\")"
      ]
    },
    {
      "cell_type": "code",
      "execution_count": null,
      "metadata": {
        "colab": {
          "base_uri": "https://localhost:8080/"
        },
        "id": "gpONxcJk0Fro",
        "outputId": "2ca94ed8-d0ac-48e9-bc28-45f74ca0039f"
      },
      "outputs": [
        {
          "output_type": "stream",
          "name": "stdout",
          "text": [
            "Approximate number of products in the dataset: 554647\n",
            "Number of reviews: 2178740\n"
          ]
        }
      ],
      "source": [
        "# Import Dataset\n",
        "def import_and_clean_datasets(file_paths):\n",
        "    datasets = [spark.read.csv(file_path, sep='\\t', header=True, inferSchema=True).select(['customer_id', 'product_id']) for file_path in file_paths]\n",
        "    # Concatenate datasets and remove duplicates\n",
        "    concatenated_data = reduce(lambda df1, df2: df1.unionAll(df2), datasets).dropDuplicates()\n",
        "    # Only keeping customers with at least 2 reviews\n",
        "    customer_reviews_count = concatenated_data.groupby('customer_id').count().withColumnRenamed('count', 'review_count')\n",
        "    concatenated_data = concatenated_data.join(broadcast(customer_reviews_count), 'customer_id').filter(customer_reviews_count['review_count'] > 1).drop('review_count')\n",
        "    # Approximate number of unique products in the dataset\n",
        "    unique_products = concatenated_data.select(approx_count_distinct('product_id')).first()[0]\n",
        "    print(f\"Approximate number of products in the dataset: {unique_products}\")\n",
        "    print(f\"Number of reviews: {concatenated_data.count()}\")\n",
        "    # Return dataframe and number of products\n",
        "    return concatenated_data\n",
        "\n",
        "# Perform import function\n",
        "file_paths = glob.glob(\"/content/amazon/*\")\n",
        "reviews = import_and_clean_datasets(file_paths)"
      ]
    },
    {
      "cell_type": "markdown",
      "metadata": {
        "id": "Ja43OSBzf3Dh"
      },
      "source": [
        "### Step 3: Build the product links ###"
      ]
    },
    {
      "cell_type": "code",
      "source": [
        "# Function that builds the combinations (including reversed) from a list\n",
        "def generate_product_pairs(products):\n",
        "    pairs = [(p1, p2) for p1, p2 in combinations(products, 2)]\n",
        "    reversed_pairs = [(p2, p1) for p1, p2 in pairs]\n",
        "    return pairs + reversed_pairs\n",
        "# Function that builds the links based on the dataframe\n",
        "def construct_product_links(review_df):\n",
        "    generate_product_pairs_udf = F.udf(generate_product_pairs, ArrayType(StructType([\n",
        "        StructField('product_1', StringType()),\n",
        "        StructField('product_2', StringType())\n",
        "    ])))\n",
        "    # Group dataframe over customer_id: generates list of all products that are reviewed by the customer\n",
        "    review_grouped_df = review_df.groupby('customer_id').agg(F.collect_set('product_id').alias('product_ids'))\n",
        "    # Generate product pairs\n",
        "    links_df = review_grouped_df.withColumn('product_pairs', generate_product_pairs_udf('product_ids')).select(explode('product_pairs').alias('product_pair'))\n",
        "    # Reformat dataframe\n",
        "    links_df = links_df.select(col(\"product_pair.product_1\").alias(\"product_1\"), col(\"product_pair.product_2\").alias(\"product_2\"))\n",
        "    # Number of links\n",
        "    print(f\"Number of links: {links_df.count()}\")\n",
        "    return links_df\n",
        "\n",
        "# Perform link building fucntion on review dataset\n",
        "links = construct_product_links(reviews)"
      ],
      "metadata": {
        "colab": {
          "base_uri": "https://localhost:8080/"
        },
        "id": "-VZA2dsr7XpL",
        "outputId": "bbe5cb52-3848-4430-fc3c-4d24ac4efa83"
      },
      "execution_count": null,
      "outputs": [
        {
          "output_type": "stream",
          "name": "stdout",
          "text": [
            "Number of links: 15777272\n"
          ]
        }
      ]
    },
    {
      "cell_type": "markdown",
      "metadata": {
        "id": "61HZueluf41B"
      },
      "source": [
        "### Step 4: Calculating the transition probabilities ###\n"
      ]
    },
    {
      "cell_type": "code",
      "execution_count": null,
      "metadata": {
        "id": "AEnX0pOPDhod",
        "colab": {
          "base_uri": "https://localhost:8080/"
        },
        "outputId": "75225273-6786-4d22-e431-27f963dc5196"
      },
      "outputs": [
        {
          "output_type": "stream",
          "name": "stdout",
          "text": [
            "+----------+----------+---------------+\n",
            "| product_2| product_1|transition_prob|\n",
            "+----------+----------+---------------+\n",
            "|B003YBMDRU|0715000322| 0.076923076923|\n",
            "|B00K0VMXDQ|0715000322| 0.076923076923|\n",
            "|B00042KG3A|0715000322| 0.076923076923|\n",
            "|B002TTU96A|0715000322| 0.076923076923|\n",
            "|B00AUFMHNI|0715000322| 0.076923076923|\n",
            "|B000W4XS80|0715000322| 0.076923076923|\n",
            "|B00ENAZA8A|0715000322| 0.076923076923|\n",
            "|B004G3NW20|0715000322| 0.076923076923|\n",
            "|B001P29P2Q|0715000322| 0.076923076923|\n",
            "|B004IUMZ92|0715000322| 0.076923076923|\n",
            "|B000K5SD68|0715000322| 0.076923076923|\n",
            "|B003AU5KQ6|0715000322| 0.076923076923|\n",
            "|B004ZGNCS2|0715000322| 0.076923076923|\n",
            "|B007RHA5KE|0991557557| 0.111111111111|\n",
            "|B001CJHU9W|0991557557| 0.111111111111|\n",
            "|B000COS0H4|0991557557| 0.111111111111|\n",
            "|B00ESMSOOU|0991557557| 0.111111111111|\n",
            "|B000MDB6NK|0991557557| 0.111111111111|\n",
            "|B001LX52OE|0991557557| 0.111111111111|\n",
            "|B008M1WK7A|0991557557| 0.111111111111|\n",
            "+----------+----------+---------------+\n",
            "only showing top 20 rows\n",
            "\n"
          ]
        }
      ],
      "source": [
        "# Function that calculates the transition probability\n",
        "def construct_connection_matrix(links):\n",
        "    adjacency = links.groupBy('product_1').agg(expr('collect_list(product_2) as adjacency_list'))\n",
        "    connection_matrix = adjacency.withColumn('transition_prob', expr('1.0 / size(adjacency_list)')).select(expr('explode(adjacency_list) as product_2'), 'product_1', 'transition_prob')\n",
        "    return connection_matrix\n",
        "\n",
        "# Perform the function on the links dataset\n",
        "connection_matrix_df = construct_connection_matrix(links)\n",
        "connection_matrix_df.show()"
      ]
    },
    {
      "cell_type": "markdown",
      "metadata": {
        "id": "6KsfsiW5gVv2"
      },
      "source": [
        "### Step 5: Initial PageRank dataframe ###\n",
        "\n",
        "Because the count of unique products is just approximated, the column with the PageRank might not add up to exactly 1."
      ]
    },
    {
      "cell_type": "code",
      "source": [
        "# Function that generates the initial PageRank dataframe - Requires number of unique products\n",
        "def initial_pagrank(connection_matrix):\n",
        "    # Number of uique products\n",
        "    unique_products = connection_matrix.select(approx_count_distinct('product_1')).first()[0]\n",
        "    print(f\"number of unique products in connection matrix: {unique_products}\")\n",
        "    # Initial PageRank value\n",
        "    init_page_rank = (1.0 / unique_products)\n",
        "    # Dataframe with unique products\n",
        "    page_rank_df = connection_matrix.select('product_1').distinct().withColumn('page_rank', lit(init_page_rank))\n",
        "    page_rank_df = page_rank_df.withColumnRenamed('product_1', 'product')\n",
        "    return page_rank_df\n",
        "# Perform the function\n",
        "pagerank = initial_pagrank(connection_matrix=connection_matrix_df)"
      ],
      "metadata": {
        "colab": {
          "base_uri": "https://localhost:8080/"
        },
        "id": "A9JbqZdtcWil",
        "outputId": "782a94b5-60fd-4e7f-9001-7825c85c33d2"
      },
      "execution_count": null,
      "outputs": [
        {
          "output_type": "stream",
          "name": "stdout",
          "text": [
            "number of unique products in connection matrix: 554647\n"
          ]
        }
      ]
    },
    {
      "cell_type": "markdown",
      "source": [
        "### Step 6: Calculate the PageRank ###"
      ],
      "metadata": {
        "id": "STjHcFUW92lD"
      }
    },
    {
      "cell_type": "code",
      "source": [
        "# PageRank calculation\n",
        "tolerance = 1.97e-09\n",
        "def pagerank_calculation(page_rank_df, tolerance, max_iter=50, prior_rank_diff=50000):\n",
        "    # Set up variables\n",
        "    iteration = 1\n",
        "    list_of_distance = []\n",
        "    # While the number of iterations is lower then the set maximum\n",
        "    while iteration < max_iter:\n",
        "        # Sort PageRank df\n",
        "        sorted_page_rank_df = page_rank_df.orderBy('product')\n",
        "        # Calculate PageRank\n",
        "        new_page_rank_df = (connection_matrix_df\n",
        "            .join(page_rank_df, connection_matrix_df.product_1 == page_rank_df.product)\n",
        "            .withColumn('partial_rank', (col('page_rank') * col('transition_prob')).cast('double'))  # Convert partial_rank to double\n",
        "            .groupBy(connection_matrix_df.product_2)\n",
        "            .agg(F.sum('partial_rank').alias('new_page_rank')))\n",
        "        # Measure distance between new and old pagerank\n",
        "        rank_diff = (new_page_rank_df\n",
        "            .join(page_rank_df, new_page_rank_df.product_2 == page_rank_df.product)\n",
        "            .withColumn('rank_diff', F.abs((col('new_page_rank') - col('page_rank'))**2))\n",
        "            .agg(F.sum('rank_diff').alias('total_rank_diff'))\n",
        "            .collect()[0]['total_rank_diff'])\n",
        "        print(f\"iteration: {iteration}, rank_diff: {rank_diff}\")\n",
        "        list_of_distance.append(rank_diff)\n",
        "        # Distance should be always decreasing and converging to zero\n",
        "        if prior_rank_diff <= rank_diff:\n",
        "            print(\"The distance didn't decrease!\")\n",
        "            return page_rank_df, iteration, list_of_distance\n",
        "        prior_rank_diff = rank_diff\n",
        "        # If distance smaller than set tolerance than break loop\n",
        "        if rank_diff < tolerance:\n",
        "            page_rank_df = new_page_rank_df.withColumnRenamed('new_page_rank', 'page_rank').withColumnRenamed('product_2', 'product')\n",
        "            return page_rank_df, iteration, list_of_distance\n",
        "        # Replace PageRank with new one and go into next iteration\n",
        "        page_rank_df = new_page_rank_df.withColumnRenamed('new_page_rank', 'page_rank').withColumnRenamed('product_2', 'product')\n",
        "        iteration += 1\n",
        "    return page_rank_df, iteration, list_of_distance\n",
        "\n",
        "# Perform funtion\n",
        "final_pagerank, iteration, list_of_distance = pagerank_calculation(page_rank_df=pagerank,\n",
        "                                                                   tolerance=tolerance)\n",
        "#page_rank_df.show()\n"
      ],
      "metadata": {
        "colab": {
          "base_uri": "https://localhost:8080/"
        },
        "id": "lsV6HvY383sw",
        "outputId": "502eaa21-acf3-4260-98ec-0cbb16d1384c"
      },
      "execution_count": null,
      "outputs": [
        {
          "output_type": "stream",
          "name": "stdout",
          "text": [
            "iteration: 1, rank_diff: 1.7618319919367947e-05\n",
            "iteration: 2, rank_diff: 1.1917040900158249e-06\n",
            "iteration: 3, rank_diff: 1.7331924805989104e-07\n",
            "iteration: 4, rank_diff: 7.839117490036606e-08\n",
            "iteration: 5, rank_diff: 3.282840796370291e-08\n",
            "iteration: 6, rank_diff: 1.7214629665672145e-08\n",
            "iteration: 7, rank_diff: 9.613347833939111e-09\n",
            "iteration: 8, rank_diff: 6.145344061168716e-09\n",
            "iteration: 9, rank_diff: 4.268991910900526e-09\n",
            "iteration: 10, rank_diff: 3.32596475687785e-09\n",
            "iteration: 11, rank_diff: 2.761514344829262e-09\n",
            "iteration: 12, rank_diff: 2.4657677579320892e-09\n",
            "iteration: 13, rank_diff: 2.271323940599893e-09\n",
            "iteration: 14, rank_diff: 2.168219093690374e-09\n",
            "iteration: 15, rank_diff: 2.0936301945889633e-09\n",
            "iteration: 16, rank_diff: 2.054491579285324e-09\n",
            "iteration: 17, rank_diff: 2.023055965114051e-09\n",
            "iteration: 18, rank_diff: 2.007047935803977e-09\n",
            "iteration: 19, rank_diff: 1.9925870008353572e-09\n",
            "iteration: 20, rank_diff: 1.9855612988051077e-09\n",
            "iteration: 21, rank_diff: 1.978332688301483e-09\n",
            "iteration: 22, rank_diff: 1.9750260518188274e-09\n",
            "iteration: 23, rank_diff: 1.9711216085656424e-09\n",
            "iteration: 24, rank_diff: 1.9694521058168754e-09\n"
          ]
        }
      ]
    },
    {
      "cell_type": "markdown",
      "source": [
        "### Step 7: Analyse results ###"
      ],
      "metadata": {
        "id": "heqcZYKZ_7ME"
      }
    },
    {
      "cell_type": "code",
      "source": [
        "# Number of iterations\n",
        "print(f\"The Loop terminated afer {iteration} iterations\")"
      ],
      "metadata": {
        "colab": {
          "base_uri": "https://localhost:8080/"
        },
        "id": "8JEjcP5QA9w9",
        "outputId": "e2fe3025-7779-42e6-bc34-9fbe4b0505ad"
      },
      "execution_count": null,
      "outputs": [
        {
          "output_type": "stream",
          "name": "stdout",
          "text": [
            "The Loop terminated afer 24 iterations\n"
          ]
        }
      ]
    },
    {
      "cell_type": "code",
      "source": [
        "# Development of the distance\n",
        "def plot_distance(distance):\n",
        "    x = range(1, len(distance) + 1)\n",
        "    y = distance\n",
        "    plt.plot(x, y)\n",
        "    plt.xlabel('Iterations')\n",
        "    plt.ylabel('Change in the PageRank')\n",
        "    plt.show()\n",
        "\n",
        "# Perform function\n",
        "plot_distance(list_of_distance)"
      ],
      "metadata": {
        "colab": {
          "base_uri": "https://localhost:8080/",
          "height": 465
        },
        "id": "cG4q1ab-AF4N",
        "outputId": "1a66580c-a461-4e6f-a956-8e41323478cf"
      },
      "execution_count": null,
      "outputs": [
        {
          "output_type": "display_data",
          "data": {
            "text/plain": [
              "<Figure size 640x480 with 1 Axes>"
            ],
            "image/png": "[encoded data removed]"
          },
          "metadata": {}
        }
      ]
    },
    {
      "cell_type": "code",
      "source": [
        "# PageRank Analysis\n",
        "def pagerank_analysis(pagerank_df, unique_products):\n",
        "    # initial PageRank\n",
        "    print(f\"Initial PageRank: {1.0 / unique_products}\")\n",
        "    # Row with the lowest PageRank\n",
        "    lowest_pagerank_row = pagerank_df.orderBy(asc(\"page_rank\")).first()\n",
        "    print(f\"Lowest PageRank: {lowest_pagerank_row}\")\n",
        "    # Retrieve rows with highest PageRanks\n",
        "    top_5_rows = pagerank_df.orderBy(desc(\"page_rank\")).limit(5)\n",
        "    top_5_pd = top_5_rows.toPandas()\n",
        "    # Plot highest PageRanks\n",
        "    top_5_pd.sort_values(\"page_rank\", ascending=False).plot.bar(x='product', y='page_rank')\n",
        "    plt.title('Products with the highest PageRank')\n",
        "    plt.xlabel('Product_ID')\n",
        "    plt.ylabel('PageRank')\n",
        "    plt.grid(axis='y', linestyle='--')\n",
        "    plt.show()\n",
        "\n",
        "# Execute function\n",
        "pagerank_analysis(pagerank_df=final_pagerank,\n",
        "                  unique_products=count_unique_products)"
      ],
      "metadata": {
        "colab": {
          "base_uri": "https://localhost:8080/",
          "height": 589
        },
        "id": "w60WVy1FZk4u",
        "outputId": "62159ee5-1500-43a2-b83d-4970da74626a"
      },
      "execution_count": null,
      "outputs": [
        {
          "output_type": "stream",
          "name": "stdout",
          "text": [
            "Initial PageRank: 1.8029485420456615e-06\n",
            "Lowest PageRank: Row(product='B004XH6PQ4', page_rank=4.6628330620614004e-08)\n"
          ]
        },
        {
          "output_type": "display_data",
          "data": {
            "text/plain": [
              "<Figure size 640x480 with 1 Axes>"
            ],
            "image/png": "[encoded data removed]"
          },
          "metadata": {}
        }
      ]
    }
  ],
  "metadata": {
    "colab": {
      "provenance": [],
      "include_colab_link": true
    },
    "kernelspec": {
      "display_name": "Python 3",
      "name": "python3"
    },
    "language_info": {
      "name": "python"
    }
  },
  "nbformat": 4,
  "nbformat_minor": 0
}